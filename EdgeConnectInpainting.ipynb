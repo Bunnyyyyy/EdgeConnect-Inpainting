{
  "nbformat": 4,
  "nbformat_minor": 0,
  "metadata": {
    "colab": {
      "name": "EdgeConnectInpainting.ipynb",
      "provenance": []
    },
    "kernelspec": {
      "name": "python3",
      "display_name": "Python 3"
    }
  },
  "cells": [
    {
      "cell_type": "code",
      "metadata": {
        "id": "rfsnq6SCfmc_",
        "colab_type": "code",
        "outputId": "6ad9b2e3-757b-4dcf-9835-cab2f31c69ff",
        "colab": {
          "base_uri": "https://localhost:8080/",
          "height": 98
        }
      },
      "source": [
        "!git clone https://github.com/knazeri/edge-connect"
      ],
      "execution_count": 1,
      "outputs": [
        {
          "output_type": "stream",
          "text": [
            "Cloning into 'edge-connect'...\n",
            "remote: Enumerating objects: 436, done.\u001b[K\n",
            "remote: Total 436 (delta 0), reused 0 (delta 0), pack-reused 436\u001b[K\n",
            "Receiving objects: 100% (436/436), 1.33 MiB | 1.08 MiB/s, done.\n",
            "Resolving deltas: 100% (264/264), done.\n"
          ],
          "name": "stdout"
        }
      ]
    },
    {
      "cell_type": "code",
      "metadata": {
        "id": "YEsZQ5C-izBv",
        "colab_type": "code",
        "outputId": "832ed2c5-ebb0-4495-b7ca-38a59cb668aa",
        "colab": {
          "base_uri": "https://localhost:8080/",
          "height": 33
        }
      },
      "source": [
        "%cd ./edge-connect/"
      ],
      "execution_count": 160,
      "outputs": [
        {
          "output_type": "stream",
          "text": [
            "/content/edge-connect\n"
          ],
          "name": "stdout"
        }
      ]
    },
    {
      "cell_type": "markdown",
      "metadata": {
        "id": "K5WFpsVt3esz",
        "colab_type": "text"
      },
      "source": [
        "# Pretrained weight download\n",
        "Weights of the model trained on Paris-Street View dataset can be downloaded [here](https://drive.google.com/drive/folders/1cGwDaZqDcqYU7kDuEbMXa9TP3uDJRBR1) and all of the 4 files must be kept in \"psv\" folder under edge-connect directory."
      ]
    },
    {
      "cell_type": "code",
      "metadata": {
        "id": "e-lHlQw2jDWT",
        "colab_type": "code",
        "outputId": "43632838-6dba-4192-be47-16388991768a",
        "colab": {
          "base_uri": "https://localhost:8080/",
          "height": 50
        }
      },
      "source": [
        "#Scipy 1.1.0 version is supported. You can also install through requirements file\n",
        "!pip install scipy==1.1.0"
      ],
      "execution_count": 77,
      "outputs": [
        {
          "output_type": "stream",
          "text": [
            "Requirement already satisfied: scipy==1.1.0 in /usr/local/lib/python3.6/dist-packages (1.1.0)\n",
            "Requirement already satisfied: numpy>=1.8.2 in /usr/local/lib/python3.6/dist-packages (from scipy==1.1.0) (1.18.4)\n"
          ],
          "name": "stdout"
        }
      ]
    },
    {
      "cell_type": "markdown",
      "metadata": {
        "id": "Fwxe1oyW7GyQ",
        "colab_type": "text"
      },
      "source": [
        "##Test images preparation\n",
        "After running the undergiven cell, manually upload the defective images and masks. Multiple Images and corresponding masks can be uploaded."
      ]
    },
    {
      "cell_type": "code",
      "metadata": {
        "id": "lXT3NVdJ4foz",
        "colab_type": "code",
        "colab": {
          "base_uri": "https://localhost:8080/",
          "height": 223
        },
        "outputId": "7589b29b-718e-4cea-b835-b06380015b2e"
      },
      "source": [
        "import os \n",
        "  \n",
        "# Directory \n",
        "directoryI = \"Images\"\n",
        "directoryM = \"Masks\"  \n",
        "result= \"results\"\n",
        "# Parent Directory path \n",
        "parent_dir = \"/content/edge-connect\"\n",
        "  \n",
        "# Path \n",
        "pathI = os.path.join(parent_dir, directoryI)\n",
        "pathM = os.path.join(parent_dir, directoryM)\n",
        "results = os.path.join(parent_dir, result)\n",
        "\n",
        "# Create the directory \n",
        "os.mkdir(pathI)\n",
        "os.mkdir(pathM) \n",
        "os.mkdir(results)"
      ],
      "execution_count": 161,
      "outputs": [
        {
          "output_type": "error",
          "ename": "FileExistsError",
          "evalue": "ignored",
          "traceback": [
            "\u001b[0;31m---------------------------------------------------------------------------\u001b[0m",
            "\u001b[0;31mFileExistsError\u001b[0m                           Traceback (most recent call last)",
            "\u001b[0;32m<ipython-input-161-5d48efec0d8f>\u001b[0m in \u001b[0;36m<module>\u001b[0;34m()\u001b[0m\n\u001b[1;32m     14\u001b[0m \u001b[0;34m\u001b[0m\u001b[0m\n\u001b[1;32m     15\u001b[0m \u001b[0;31m# Create the directory\u001b[0m\u001b[0;34m\u001b[0m\u001b[0;34m\u001b[0m\u001b[0;34m\u001b[0m\u001b[0m\n\u001b[0;32m---> 16\u001b[0;31m \u001b[0mos\u001b[0m\u001b[0;34m.\u001b[0m\u001b[0mmkdir\u001b[0m\u001b[0;34m(\u001b[0m\u001b[0mpathI\u001b[0m\u001b[0;34m)\u001b[0m\u001b[0;34m\u001b[0m\u001b[0;34m\u001b[0m\u001b[0m\n\u001b[0m\u001b[1;32m     17\u001b[0m \u001b[0mos\u001b[0m\u001b[0;34m.\u001b[0m\u001b[0mmkdir\u001b[0m\u001b[0;34m(\u001b[0m\u001b[0mpathM\u001b[0m\u001b[0;34m)\u001b[0m\u001b[0;34m\u001b[0m\u001b[0;34m\u001b[0m\u001b[0m\n\u001b[1;32m     18\u001b[0m \u001b[0mos\u001b[0m\u001b[0;34m.\u001b[0m\u001b[0mmkdir\u001b[0m\u001b[0;34m(\u001b[0m\u001b[0mresults\u001b[0m\u001b[0;34m)\u001b[0m\u001b[0;34m\u001b[0m\u001b[0;34m\u001b[0m\u001b[0m\n",
            "\u001b[0;31mFileExistsError\u001b[0m: [Errno 17] File exists: '/content/edge-connect/Images'"
          ]
        }
      ]
    },
    {
      "cell_type": "markdown",
      "metadata": {
        "id": "kYfRhlvJ4KAs",
        "colab_type": "text"
      },
      "source": [
        "##Main code"
      ]
    },
    {
      "cell_type": "code",
      "metadata": {
        "id": "9xEH03NlrBFH",
        "colab_type": "code",
        "colab": {
          "base_uri": "https://localhost:8080/",
          "height": 147
        },
        "outputId": "c925bee0-8c71-4620-ae20-59b73d23bf70"
      },
      "source": [
        "#The main file\n",
        "\n",
        "import os\n",
        "import cv2\n",
        "import random\n",
        "import numpy as np\n",
        "import torch\n",
        "import argparse\n",
        "from shutil import copyfile\n",
        "from src.config import Config\n",
        "from src.edge_connect import EdgeConnect\n",
        "\n",
        "\n",
        "def main(mode=None):\n",
        "    \n",
        "    config = load_config(mode)\n",
        "\n",
        "    # cuda visble devices\n",
        "    os.environ['CUDA_VISIBLE_DEVICES'] = ','.join(str(e) for e in config.GPU)\n",
        "\n",
        "\n",
        "    # init device\n",
        "    if torch.cuda.is_available():\n",
        "        config.DEVICE = torch.device(\"cuda\")\n",
        "        torch.backends.cudnn.benchmark = True   # cudnn auto-tuner\n",
        "    else:\n",
        "        config.DEVICE = torch.device(\"cpu\")\n",
        "\n",
        "\n",
        "\n",
        "    # set cv2 running threads to 1 (prevents deadlocks with pytorch dataloader)\n",
        "    cv2.setNumThreads(0)\n",
        "\n",
        "\n",
        "    # initialize random seed\n",
        "    torch.manual_seed(config.SEED)\n",
        "    torch.cuda.manual_seed_all(config.SEED)\n",
        "    np.random.seed(config.SEED)\n",
        "    random.seed(config.SEED)\n",
        "\n",
        "\n",
        "\n",
        "    # build the model and initialize\n",
        "    model = EdgeConnect(config)\n",
        "    model.load()\n",
        "\n",
        "\n",
        "    # model training\n",
        "    if config.MODE == 1:\n",
        "        config.print()\n",
        "        print('\\nstart training...\\n')\n",
        "        model.train()\n",
        "\n",
        "    # model test\n",
        "    elif config.MODE == 2:\n",
        "        print('\\nstart testing...\\n')\n",
        "        model.test()\n",
        "\n",
        "    # eval mode\n",
        "    else:\n",
        "        print('\\nstart eval...\\n')\n",
        "        model.eval()\n",
        "\n",
        "\n",
        "def load_config(mode=None):\n",
        "    config_path = os.path.join('./psv','config.yml')\n",
        "    \n",
        "    # create checkpoints path if does't exist\n",
        "    if not os.path.exists('./psv'):\n",
        "        os.makedirs('./psv')\n",
        "\n",
        "    # copy config template if does't exist\n",
        "    if not os.path.exists(config_path):\n",
        "        copyfile('./config.yml.example', config_path)\n",
        "\n",
        "    # load config file\n",
        "    config = Config(config_path)\n",
        "\n",
        "    # train mode\n",
        "    if mode == 1:\n",
        "        config.MODE = 1\n",
        "        if args.model:\n",
        "            config.MODEL = args.model\n",
        "\n",
        "    # test mode\n",
        "    elif mode == 2:\n",
        "        config.MODE = 2\n",
        "        config.MODEL = 3\n",
        "        config.INPUT_SIZE = 0\n",
        "\n",
        "        #if args.input is not None:\n",
        "        config.TEST_FLIST = './Images'\n",
        "\n",
        "        #if args.mask is not None:\n",
        "        config.TEST_MASK_FLIST = './Masks'\n",
        "\n",
        "        #if args.edge is not None:\n",
        "        #    config.TEST_EDGE_FLIST = args.edge\n",
        "\n",
        "        #if args.output is not None:\n",
        "        config.RESULTS = './results'\n",
        "\n",
        "    # eval mode\n",
        "    elif mode == 3:\n",
        "        config.MODE = 3\n",
        "        config.MODEL = args.model if args.model is not None else 3\n",
        "\n",
        "    return config\n",
        "\n",
        "if __name__ == \"__main__\":\n",
        "    main(mode=2)"
      ],
      "execution_count": 171,
      "outputs": [
        {
          "output_type": "stream",
          "text": [
            "Loading EdgeModel generator...\n",
            "Loading InpaintingModel generator...\n",
            "\n",
            "start testing...\n",
            "\n",
            "1 image3.jpg\n",
            "\n",
            "End test....\n"
          ],
          "name": "stdout"
        }
      ]
    },
    {
      "cell_type": "code",
      "metadata": {
        "id": "DvUX22hpUL0i",
        "colab_type": "code",
        "colab": {
          "base_uri": "https://localhost:8080/",
          "height": 33
        },
        "outputId": "e8f9e510-a51d-4986-c74c-e339f3d21313"
      },
      "source": [
        "%cd ./results/"
      ],
      "execution_count": 172,
      "outputs": [
        {
          "output_type": "stream",
          "text": [
            "/content/edge-connect/results\n"
          ],
          "name": "stdout"
        }
      ]
    },
    {
      "cell_type": "markdown",
      "metadata": {
        "id": "27zXLDo-YVHU",
        "colab_type": "text"
      },
      "source": [
        "##Post Processing Methods\n",
        "Median filtering followed by weighted Gaussian filtering is performed on each image."
      ]
    },
    {
      "cell_type": "code",
      "metadata": {
        "id": "0i4IB9tiZPxU",
        "colab_type": "code",
        "colab": {}
      },
      "source": [
        "def unsharp_mask(image, kernel_size=(5, 5), sigma=1.0, amount=1.0, threshold=0):\n",
        "    \"\"\"Return a sharpened version of the image, using an unsharp mask.\"\"\"\n",
        "    blurred = cv2.GaussianBlur(image, kernel_size, sigma)\n",
        "    sharpened = float(amount + 1) * image - float(amount) * blurred\n",
        "    sharpened = np.maximum(sharpened, np.zeros(sharpened.shape))\n",
        "    sharpened = np.minimum(sharpened, 255 * np.ones(sharpened.shape))\n",
        "    sharpened = sharpened.round().astype(np.uint8)\n",
        "    if threshold > 0:\n",
        "        low_contrast_mask = np.absolute(image - blurred) < threshold\n",
        "        np.copyto(sharpened, image, where=low_contrast_mask)\n",
        "    return sharpened"
      ],
      "execution_count": 0,
      "outputs": []
    },
    {
      "cell_type": "code",
      "metadata": {
        "id": "J8B1ubBA6Y1x",
        "colab_type": "code",
        "colab": {
          "base_uri": "https://localhost:8080/",
          "height": 50
        },
        "outputId": "cd3c1279-5a1e-4f67-f5dd-df6a0788fcdd"
      },
      "source": [
        "import cv2\n",
        "import numpy as np\n",
        "\n",
        "list1= os.listdir('/content/edge-connect/results')\n",
        "number= len(list1)\n",
        "print(number)\n",
        "\n",
        "path1= '/content/edge-connect/results/'\n",
        "\n",
        "for i in range(1,number):\n",
        "  image= list1[i]\n",
        "  print(path1 + image)\n",
        "  im= cv2.imread(path1 + image)\n",
        "  final= cv2.medianBlur(im, 3)\n",
        "  #cv2.imwrite(list1[i], final)\n",
        "  sharpened_image = unsharp_mask(final)\n",
        "  cv2.imwrite(image, sharpened_image)\n"
      ],
      "execution_count": 174,
      "outputs": [
        {
          "output_type": "stream",
          "text": [
            "2\n",
            "/content/edge-connect/results/image3.jpg\n"
          ],
          "name": "stdout"
        }
      ]
    }
  ]
}